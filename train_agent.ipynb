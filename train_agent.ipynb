{
 "cells": [
  {
   "cell_type": "markdown",
   "metadata": {},
   "source": [
    "# Q Learning for Pacman Capture the Flag"
   ]
  },
  {
   "cell_type": "code",
   "execution_count": null,
   "metadata": {},
   "outputs": [],
   "source": [
    "import json\n",
    "\n",
    "def update_epsilon(param_json):\n",
    "    \"\"\"\n",
    "    Update epsilon based on the total reward per episode.\n",
    "    \"\"\"\n",
    "    params = json.load(open(param_json, 'r'))\n",
    "    epsilon = params[\"epsilon\"][-1]  # Get the current epsilon value\n",
    "\n",
    "    if len(params[\"total_reward\"]) < 2:\n",
    "        epsilon = 1.0\n",
    "    else:\n",
    "        reward = params[\"total_reward\"][-2]\n",
    "    # Define epsilon update logic based on total reward\n",
    "    if total_reward > reward:\n",
    "        epsilon *= 0.9  # Decrease epsilon if total reward is high\n",
    "    elif total_reward < reward:\n",
    "        epsilon *= 1.1  # Increase epsilon if total reward is low\n",
    "\n",
    "    # Clip epsilon to ensure it remains within a valid range (0.0 to 1.0)\n",
    "    epsilon = max(0.0, min(1.0, epsilon))\n",
    "\n",
    "    # Update the parameters dictionary\n",
    "    params[\"epsilon\"].append(epsilon)\n",
    "\n",
    "    json.dump(params, open('defensiveParams.json', 'w'))\n"
   ]
  },
  {
   "cell_type": "markdown",
   "metadata": {},
   "source": []
  }
 ],
 "metadata": {
  "language_info": {
   "name": "python"
  }
 },
 "nbformat": 4,
 "nbformat_minor": 2
}
