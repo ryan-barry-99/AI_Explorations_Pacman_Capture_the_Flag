{
 "cells": [
  {
   "cell_type": "markdown",
   "metadata": {},
   "source": [
    "# Q Learning for Pacman Capture the Flag"
   ]
  },
  {
   "cell_type": "code",
   "execution_count": 1,
   "metadata": {},
   "outputs": [
    {
     "data": {
      "text/plain": [
       "'c:\\\\Users\\\\Ryan Barry\\\\OneDrive - rit.edu\\\\Laptop Backup\\\\Desktop\\\\RIT\\\\AI Explorations\\\\Final_Project\\\\pacman-contest-3-master'"
      ]
     },
     "execution_count": 1,
     "metadata": {},
     "output_type": "execute_result"
    }
   ],
   "source": [
    "import os\n",
    "os.chdir(\"pacman-contest-3-master/\")\n",
    "os.getcwd()"
   ]
  },
  {
   "cell_type": "code",
   "execution_count": 6,
   "metadata": {},
   "outputs": [
    {
     "ename": "IndexError",
     "evalue": "list index out of range",
     "output_type": "error",
     "traceback": [
      "\u001b[1;31m---------------------------------------------------------------------------\u001b[0m",
      "\u001b[1;31mIndexError\u001b[0m                                Traceback (most recent call last)",
      "\u001b[1;32mc:\\Users\\Ryan Barry\\OneDrive - rit.edu\\Laptop Backup\\Desktop\\RIT\\AI Explorations\\Final_Project\\train_agent.ipynb Cell 3\u001b[0m line \u001b[0;36m3\n\u001b[0;32m     <a href='vscode-notebook-cell:/c%3A/Users/Ryan%20Barry/OneDrive%20-%20rit.edu/Laptop%20Backup/Desktop/RIT/AI%20Explorations/Final_Project/train_agent.ipynb#W2sZmlsZQ%3D%3D?line=27'>28</a>\u001b[0m defensive_params \u001b[39m=\u001b[39m json\u001b[39m.\u001b[39mload(\u001b[39mopen\u001b[39m(\u001b[39m\"\u001b[39m\u001b[39mdefensiveParams.json\u001b[39m\u001b[39m\"\u001b[39m, \u001b[39m'\u001b[39m\u001b[39mr\u001b[39m\u001b[39m'\u001b[39m))\n\u001b[0;32m     <a href='vscode-notebook-cell:/c%3A/Users/Ryan%20Barry/OneDrive%20-%20rit.edu/Laptop%20Backup/Desktop/RIT/AI%20Explorations/Final_Project/train_agent.ipynb#W2sZmlsZQ%3D%3D?line=28'>29</a>\u001b[0m clear_output()\n\u001b[1;32m---> <a href='vscode-notebook-cell:/c%3A/Users/Ryan%20Barry/OneDrive%20-%20rit.edu/Laptop%20Backup/Desktop/RIT/AI%20Explorations/Final_Project/train_agent.ipynb#W2sZmlsZQ%3D%3D?line=29'>30</a>\u001b[0m \u001b[39mprint\u001b[39m(\u001b[39mf\u001b[39m\u001b[39m\"\u001b[39m\u001b[39mEpisode \u001b[39m\u001b[39m{\u001b[39;00mepisode\u001b[39m \u001b[39m\u001b[39m+\u001b[39m\u001b[39m \u001b[39m\u001b[39m1\u001b[39m\u001b[39m}\u001b[39;00m\u001b[39m completed successfully.  Offensive Reward: \u001b[39m\u001b[39m{\u001b[39;00moffensive_params[\u001b[39m'\u001b[39;49m\u001b[39mtotal_reward\u001b[39;49m\u001b[39m'\u001b[39;49m][\u001b[39m-\u001b[39;49m\u001b[39m1\u001b[39;49m]\u001b[39m}\u001b[39;00m\u001b[39m.  Defensive Reward: \u001b[39m\u001b[39m{\u001b[39;00mdefensive_params[\u001b[39m'\u001b[39m\u001b[39mtotal_reward\u001b[39m\u001b[39m'\u001b[39m][\u001b[39m-\u001b[39m\u001b[39m1\u001b[39m]\u001b[39m}\u001b[39;00m\u001b[39m.\u001b[39m\u001b[39m\\n\u001b[39;00m\u001b[39m\"\u001b[39m)\n\u001b[0;32m     <a href='vscode-notebook-cell:/c%3A/Users/Ryan%20Barry/OneDrive%20-%20rit.edu/Laptop%20Backup/Desktop/RIT/AI%20Explorations/Final_Project/train_agent.ipynb#W2sZmlsZQ%3D%3D?line=30'>31</a>\u001b[0m \u001b[39mprint\u001b[39m(\u001b[39mf\u001b[39m\u001b[39m\"\u001b[39m\u001b[39mDefensive Agent Weights:\u001b[39m\u001b[39m\"\u001b[39m)\n\u001b[0;32m     <a href='vscode-notebook-cell:/c%3A/Users/Ryan%20Barry/OneDrive%20-%20rit.edu/Laptop%20Backup/Desktop/RIT/AI%20Explorations/Final_Project/train_agent.ipynb#W2sZmlsZQ%3D%3D?line=31'>32</a>\u001b[0m \u001b[39mprint\u001b[39m(\u001b[39mf\u001b[39m\u001b[39m\"\u001b[39m\u001b[39m\\t\u001b[39;00m\u001b[39mepsilon: \u001b[39m\u001b[39m{\u001b[39;00mdefensive_params[\u001b[39m'\u001b[39m\u001b[39mepsilon\u001b[39m\u001b[39m'\u001b[39m][\u001b[39m-\u001b[39m\u001b[39m1\u001b[39m]\u001b[39m}\u001b[39;00m\u001b[39m\"\u001b[39m)\n",
      "\u001b[1;31mIndexError\u001b[0m: list index out of range"
     ]
    }
   ],
   "source": [
    "import subprocess\n",
    "import time\n",
    "from IPython.display import HTML, display, clear_output\n",
    "import json\n",
    "\n",
    "with open(\"offensiveParams.json\", 'r') as file:\n",
    "    offensive_params = json.load(file)\n",
    "\n",
    "num_episodes = offensive_params[\"num_episodes\"]\n",
    "\n",
    "# Function to display captured output\n",
    "def show_output(output):\n",
    "    display(HTML(\"<pre>\" + output.decode(\"utf-8\") + \"</pre>\"))\n",
    "\n",
    "# Function to run the capture.py command for a given episode\n",
    "def run_episode(episode):\n",
    "    command = f\"python capture.py -r baselineTeam -b myteam --delay-step 0 -q\"\n",
    "    result = subprocess.run(command, stdout=subprocess.PIPE, stderr=subprocess.PIPE, shell=True)\n",
    "    return result.returncode\n",
    "\n",
    "\n",
    "# Run episodes\n",
    "for episode in range(num_episodes, num_episodes + 10000):\n",
    "    return_code = run_episode(episode)\n",
    "    \n",
    "    if return_code == 0:\n",
    "        offensive_params = json.load(open(\"offensiveParams.json\", 'r'))\n",
    "        defensive_params = json.load(open(\"defensiveParams.json\", 'r'))\n",
    "        clear_output()\n",
    "        print(f\"Episode {episode + 1} completed successfully.  Offensive Reward: {offensive_params['total_reward'][-1]}.  Defensive Reward: {defensive_params['total_reward'][-1]}.\\n\")\n",
    "        print(f\"Defensive Agent Weights:\")\n",
    "        print(f\"\\tepsilon: {defensive_params['epsilon'][-1]}\")\n",
    "        print(f\"\\talpha: {defensive_params['alpha'][-1]}\")\n",
    "        print(f\"\\tdiscount: {defensive_params['discount'][-1]}\")\n",
    "        for key, value in defensive_params['weights'].items():\n",
    "            print(f\"\\t{key}: {value}\")\n",
    "        print(f\"\\nOffensive Agent Weights:\")\n",
    "        print(f\"\\tepsilon: {offensive_params['epsilon'][-1]}\")\n",
    "        print(f\"\\talpha: {offensive_params['alpha'][-1]}\")\n",
    "        print(f\"\\tdiscount: {offensive_params['discount'][-1]}\")\n",
    "        for key, value in offensive_params['weights'].items():\n",
    "            print(f\"\\t{key}: {value}\")\n",
    "    else:\n",
    "        print(f\"Error in episode {episode + 1}. Exiting.\")\n",
    "        break\n",
    "\n",
    "print(\"All episodes completed.\")\n"
   ]
  },
  {
   "cell_type": "code",
   "execution_count": 31,
   "metadata": {},
   "outputs": [],
   "source": [
    "from update_params import update_parameters\n",
    "update_parameters(\"offensiveParams.json\")\n",
    "update_parameters(\"defensiveParams.json\")\n"
   ]
  },
  {
   "cell_type": "code",
   "execution_count": 7,
   "metadata": {},
   "outputs": [],
   "source": [
    "import json\n",
    "defensive_params = json.load(open(\"defensiveParams_base.json\", 'r'))\n",
    "offensive_params = json.load(open(\"offensiveParams_base.json\", 'r'))\n",
    "json.dump(defensive_params, open(\"defensiveParams.json\", 'w'), indent=4)\n",
    "json.dump(offensive_params, open(\"offensiveParams.json\", 'w'), indent=4)"
   ]
  }
 ],
 "metadata": {
  "kernelspec": {
   "display_name": ".venv",
   "language": "python",
   "name": "python3"
  },
  "language_info": {
   "codemirror_mode": {
    "name": "ipython",
    "version": 3
   },
   "file_extension": ".py",
   "mimetype": "text/x-python",
   "name": "python",
   "nbconvert_exporter": "python",
   "pygments_lexer": "ipython3",
   "version": "3.10.11"
  }
 },
 "nbformat": 4,
 "nbformat_minor": 2
}
