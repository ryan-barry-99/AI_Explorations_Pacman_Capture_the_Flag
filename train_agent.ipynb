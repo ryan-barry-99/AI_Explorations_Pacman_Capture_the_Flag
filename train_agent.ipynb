{
 "cells": [
  {
   "cell_type": "markdown",
   "metadata": {},
   "source": [
    "# Q Learning for Pacman Capture the Flag"
   ]
  },
  {
   "cell_type": "code",
   "execution_count": 3,
   "metadata": {},
   "outputs": [],
   "source": [
    "import json\n",
    "\n",
    "def update_parameters(param_json):\n",
    "    \"\"\"\n",
    "    Update epsilon, alpha, and discount based on the total reward per episode.\n",
    "    \"\"\"\n",
    "    # Load parameters from the JSON file\n",
    "    with open(param_json, 'r') as file:\n",
    "        params = json.load(file)\n",
    "\n",
    "    # Extract current values\n",
    "    epsilon = params[\"epsilon\"][-1]\n",
    "    alpha = params[\"alpha\"][-1]\n",
    "    discount = params[\"discount\"][-1]\n",
    "\n",
    "    if len(params[\"total_reward\"]) < 2:\n",
    "        # Use initial values if there's not enough history\n",
    "        epsilon = 1.0\n",
    "        alpha = 0.2\n",
    "        discount = 0.8\n",
    "    else:\n",
    "        total_reward = params[\"total_reward\"][-1]\n",
    "        prev_reward = params[\"total_reward\"][-2]\n",
    "\n",
    "        # Update epsilon based on total reward\n",
    "        if total_reward > prev_reward:\n",
    "            epsilon *= 0.9  # Decrease epsilon if total reward is high\n",
    "        elif total_reward < prev_reward:\n",
    "            epsilon *= 1.1  # Increase epsilon if total reward is low\n",
    "\n",
    "        # Update alpha based on total reward\n",
    "        if total_reward > prev_reward:\n",
    "            alpha *= 0.9  # Decrease alpha if total reward is high\n",
    "        elif total_reward < prev_reward:\n",
    "            alpha *= 1.1  # Increase alpha if total reward is low\n",
    "\n",
    "        # Update discount based on total reward\n",
    "        if total_reward > prev_reward:\n",
    "            discount *= 0.9  # Decrease discount if total reward is high\n",
    "        elif total_reward < prev_reward:\n",
    "            discount *= 1.1  # Increase discount if total reward is low\n",
    "\n",
    "        # Clip values to ensure they remain within valid ranges\n",
    "        epsilon = max(0.0, min(1.0, epsilon))\n",
    "        alpha = max(0.0, min(1.0, alpha))\n",
    "        discount = max(0.0, min(1.0, discount))\n",
    "\n",
    "    # Update the parameters dictionary\n",
    "    params[\"epsilon\"].append(epsilon)\n",
    "    params[\"alpha\"].append(alpha)\n",
    "    params[\"discount\"].append(discount)\n",
    "\n",
    "    # Save the updated parameters back to the JSON file\n",
    "    with open(param_json, 'w') as file:\n",
    "        json.dump(params, file, indent=4)\n"
   ]
  },
  {
   "cell_type": "markdown",
   "metadata": {},
   "source": []
  }
 ],
 "metadata": {
  "kernelspec": {
   "display_name": ".venv",
   "language": "python",
   "name": "python3"
  },
  "language_info": {
   "codemirror_mode": {
    "name": "ipython",
    "version": 3
   },
   "file_extension": ".py",
   "mimetype": "text/x-python",
   "name": "python",
   "nbconvert_exporter": "python",
   "pygments_lexer": "ipython3",
   "version": "3.10.11"
  }
 },
 "nbformat": 4,
 "nbformat_minor": 2
}
