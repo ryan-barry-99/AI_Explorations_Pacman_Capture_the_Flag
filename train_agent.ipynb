{
 "cells": [
  {
   "cell_type": "markdown",
   "metadata": {},
   "source": [
    "# Q Learning for Pacman Capture the Flag"
   ]
  },
  {
   "cell_type": "code",
   "execution_count": 3,
   "metadata": {},
   "outputs": [],
   "source": [
    "import json\n",
    "import random\n",
    "\n",
    "def update_parameters(param_json):\n",
    "    \"\"\"\n",
    "    Update epsilon, alpha, and discount based on the total reward per episode.\n",
    "    \"\"\"\n",
    "    # Load parameters from the JSON file\n",
    "    with open(param_json, 'r') as file:\n",
    "        params = json.load(file)\n",
    "\n",
    "    # Extract current values\n",
    "    epsilon = params[\"epsilon\"][-1]\n",
    "    alpha = params[\"alpha\"][-1]\n",
    "    discount = params[\"discount\"][-1]\n",
    "\n",
    "    reset_chance = 0.05  # Chance to reset parameters to initial values\n",
    "    \n",
    "    if len(params[\"total_reward\"]) < 2:\n",
    "        # Use initial values if there's not enough history\n",
    "        epsilon = 1.0\n",
    "        alpha = 0.2\n",
    "        discount = 0.8\n",
    "    elif random.random() < reset_chance:\n",
    "        # Reset parameters to initial values\n",
    "        epsilon = 1.0\n",
    "        alpha = 0.2\n",
    "        discount = 0.8\n",
    "    else:\n",
    "        total_reward = params[\"total_reward\"][-1]\n",
    "        prev_reward = params[\"total_reward\"][-2]\n",
    "\n",
    "        # Update epsilon based on total reward\n",
    "        if total_reward > prev_reward:\n",
    "            epsilon *= 0.95  # Decrease epsilon if total reward is high\n",
    "        elif total_reward < prev_reward:\n",
    "            epsilon *= 1.1  # Increase epsilon if total reward is low\n",
    "\n",
    "        # Update alpha based on total reward\n",
    "        if total_reward > prev_reward:\n",
    "            alpha *= 0.95  # Decrease alpha if total reward is high\n",
    "        elif total_reward < prev_reward:\n",
    "            alpha *= 1.1  # Increase alpha if total reward is low\n",
    "\n",
    "        # Update discount based on total reward\n",
    "        if total_reward > prev_reward:\n",
    "            discount *= 0.95  # Decrease discount if total reward is high\n",
    "        elif total_reward < prev_reward:\n",
    "            discount *= 1.1  # Increase discount if total reward is low\n",
    "\n",
    "        # Clip values to ensure they remain within valid ranges\n",
    "        epsilon = max(0.0, min(1.0, epsilon))\n",
    "        alpha = max(0.0, min(1.0, alpha))\n",
    "        discount = max(0.0, min(1.0, discount))\n",
    "\n",
    "    # Update the parameters dictionary\n",
    "    params[\"epsilon\"].append(epsilon)\n",
    "    params[\"alpha\"].append(alpha)\n",
    "    params[\"discount\"].append(discount)\n",
    "\n",
    "    # Save the updated parameters back to the JSON file\n",
    "    with open(param_json, 'w') as file:\n",
    "        json.dump(params, file, indent=4)\n"
   ]
  },
  {
   "cell_type": "code",
   "execution_count": 10,
   "metadata": {},
   "outputs": [
    {
     "data": {
      "text/plain": [
       "'c:\\\\Users\\\\ryanb\\\\OneDrive\\\\Desktop\\\\RIT\\\\AI Explorations\\\\AI_Explorations_Pacman_Capture_the_Flag\\\\pacman-contest-3-master'"
      ]
     },
     "execution_count": 10,
     "metadata": {},
     "output_type": "execute_result"
    }
   ],
   "source": [
    "import os\n",
    "os.chdir(\"pacman-contest-3-master/\")\n",
    "os.getcwd()"
   ]
  },
  {
   "cell_type": "code",
   "execution_count": 18,
   "metadata": {},
   "outputs": [],
   "source": [
    "update_parameters(\"offensiveParams.json\")\n",
    "update_parameters(\"defensiveParams.json\")"
   ]
  },
  {
   "cell_type": "code",
   "execution_count": 19,
   "metadata": {},
   "outputs": [
    {
     "name": "stdout",
     "output_type": "stream",
     "text": [
      "\n",
      "Red team myteam with {}:\n",
      "myteam.py\n",
      "Loading Team: myteam.py\n",
      "Arguments: {}\n",
      "\n",
      "Blue team myteam with {}:\n",
      "myteam.py\n",
      "Loading Team: myteam.py\n",
      "Arguments: {}\n",
      "Red team starts\n",
      "Time is up.\n",
      "Tie game!\n",
      "\n",
      "Total Time Game: 3.0\n"
     ]
    },
    {
     "name": "stderr",
     "output_type": "stream",
     "text": [
      "capture.py:61: DeprecationWarning: the imp module is deprecated in favour of importlib; see the module's documentation for alternative uses\n",
      "  import sys, util, types, time, random, imp\n"
     ]
    }
   ],
   "source": [
    "for episode in range(1000):\n",
    "    !python capture.py -r myteam -b myteam  --delay-step 0 -q\n",
    "    update_parameters(\"offensiveParams.json\")\n",
    "    update_parameters(\"defensiveParams.json\")"
   ]
  }
 ],
 "metadata": {
  "kernelspec": {
   "display_name": ".venv",
   "language": "python",
   "name": "python3"
  },
  "language_info": {
   "codemirror_mode": {
    "name": "ipython",
    "version": 3
   },
   "file_extension": ".py",
   "mimetype": "text/x-python",
   "name": "python",
   "nbconvert_exporter": "python",
   "pygments_lexer": "ipython3",
   "version": "3.10.11"
  }
 },
 "nbformat": 4,
 "nbformat_minor": 2
}
