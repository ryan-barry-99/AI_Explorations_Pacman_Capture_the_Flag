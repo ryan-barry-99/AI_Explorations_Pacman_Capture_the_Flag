{
 "cells": [
  {
   "cell_type": "markdown",
   "metadata": {},
   "source": [
    "# Q Learning for Pacman Capture the Flag"
   ]
  },
  {
   "cell_type": "code",
   "execution_count": 1,
   "metadata": {},
   "outputs": [
    {
     "data": {
      "text/plain": [
       "'c:\\\\Users\\\\ryanb\\\\OneDrive\\\\Desktop\\\\RIT\\\\AI Explorations\\\\AI_Explorations_Pacman_Capture_the_Flag\\\\pacman-contest-3-master'"
      ]
     },
     "execution_count": 1,
     "metadata": {},
     "output_type": "execute_result"
    }
   ],
   "source": [
    "import os\n",
    "os.chdir(\"pacman-contest-3-master/\")\n",
    "os.getcwd()"
   ]
  },
  {
   "cell_type": "code",
   "execution_count": 49,
   "metadata": {},
   "outputs": [
    {
     "name": "stdout",
     "output_type": "stream",
     "text": [
      "Playing Episode 2 as Red\n",
      "\n",
      "Episode 3 completed successfully.  Offensive Reward: -328.0835888590719.  Defensive Reward: -534.5599999999998.\n",
      "\n",
      "Defensive Agent Weights:\n",
      "\tepsilon: 0.59994\n",
      "\talpha: 0.1\n",
      "\tdiscount: 0.999\n",
      "\tdistance_to_start: 98.74002302436405\n",
      "\tnum_invaders: 1600.5688989969285\n",
      "\tdistance_from_middle: 364.092486902568\n",
      "\tdistance_from_closest_invader: -86988.40317171735\n",
      "\tscared_distance: 0.0\n",
      "\tdistance_to_home: 0.0\n",
      "\tinvader_captured: 0.0\n",
      "\tfood_protected: 0.0\n",
      "\tavoided_ghost: 0.0\n",
      "\tambush_location: 0.0\n",
      "\tbias: -93091.78586512667\n",
      "\n",
      "Offensive Agent Weights:\n",
      "\tepsilon: 0.6120599999999999\n",
      "\talpha: 0.10020009999999999\n",
      "\tdiscount: 0.9999989999999999\n",
      "\tdistance_to_start: -5.08078488426328\n",
      "\tsuccessor_score: -0.7429218984265606\n",
      "\tnum_ghosts_one_step_away: 0.0\n",
      "\tdistance_from_closest_ghost: 0.0\n",
      "\tis_home: -5.162927280932194\n",
      "\tdistance_to_food: -0.6149369655941583\n",
      "\tfood_eaten: 0.0\n",
      "\tavoided_ghost: 0.0\n",
      "\tcarrying_food: 0.0\n",
      "\tdistance_to_capsule: -0.4788009692872238\n",
      "\tbias: -24.93163212908833\n"
     ]
    },
    {
     "ename": "KeyboardInterrupt",
     "evalue": "",
     "output_type": "error",
     "traceback": [
      "\u001b[1;31m---------------------------------------------------------------------------\u001b[0m",
      "\u001b[1;31mKeyboardInterrupt\u001b[0m                         Traceback (most recent call last)",
      "\u001b[1;32mc:\\Users\\Ryan Barry\\OneDrive - rit.edu\\Laptop Backup\\Desktop\\RIT\\AI Explorations\\Final_Project\\train_agent.ipynb Cell 3\u001b[0m line \u001b[0;36m3\n\u001b[0;32m     <a href='vscode-notebook-cell:/c%3A/Users/Ryan%20Barry/OneDrive%20-%20rit.edu/Laptop%20Backup/Desktop/RIT/AI%20Explorations/Final_Project/train_agent.ipynb#W6sZmlsZQ%3D%3D?line=32'>33</a>\u001b[0m \u001b[39m# Run episodes\u001b[39;00m\n\u001b[0;32m     <a href='vscode-notebook-cell:/c%3A/Users/Ryan%20Barry/OneDrive%20-%20rit.edu/Laptop%20Backup/Desktop/RIT/AI%20Explorations/Final_Project/train_agent.ipynb#W6sZmlsZQ%3D%3D?line=33'>34</a>\u001b[0m \u001b[39mfor\u001b[39;00m episode \u001b[39min\u001b[39;00m \u001b[39mrange\u001b[39m(num_episodes, num_episodes \u001b[39m+\u001b[39m \u001b[39m10000\u001b[39m):\n\u001b[1;32m---> <a href='vscode-notebook-cell:/c%3A/Users/Ryan%20Barry/OneDrive%20-%20rit.edu/Laptop%20Backup/Desktop/RIT/AI%20Explorations/Final_Project/train_agent.ipynb#W6sZmlsZQ%3D%3D?line=34'>35</a>\u001b[0m     return_code \u001b[39m=\u001b[39m run_episode(episode)\n\u001b[0;32m     <a href='vscode-notebook-cell:/c%3A/Users/Ryan%20Barry/OneDrive%20-%20rit.edu/Laptop%20Backup/Desktop/RIT/AI%20Explorations/Final_Project/train_agent.ipynb#W6sZmlsZQ%3D%3D?line=36'>37</a>\u001b[0m     \u001b[39mif\u001b[39;00m return_code \u001b[39m==\u001b[39m \u001b[39m0\u001b[39m:\n\u001b[0;32m     <a href='vscode-notebook-cell:/c%3A/Users/Ryan%20Barry/OneDrive%20-%20rit.edu/Laptop%20Backup/Desktop/RIT/AI%20Explorations/Final_Project/train_agent.ipynb#W6sZmlsZQ%3D%3D?line=37'>38</a>\u001b[0m         offensive_params \u001b[39m=\u001b[39m json\u001b[39m.\u001b[39mload(\u001b[39mopen\u001b[39m(\u001b[39m\"\u001b[39m\u001b[39moffensiveParams.json\u001b[39m\u001b[39m\"\u001b[39m, \u001b[39m'\u001b[39m\u001b[39mr\u001b[39m\u001b[39m'\u001b[39m))\n",
      "\u001b[1;32mc:\\Users\\Ryan Barry\\OneDrive - rit.edu\\Laptop Backup\\Desktop\\RIT\\AI Explorations\\Final_Project\\train_agent.ipynb Cell 3\u001b[0m line \u001b[0;36m2\n\u001b[0;32m     <a href='vscode-notebook-cell:/c%3A/Users/Ryan%20Barry/OneDrive%20-%20rit.edu/Laptop%20Backup/Desktop/RIT/AI%20Explorations/Final_Project/train_agent.ipynb#W6sZmlsZQ%3D%3D?line=22'>23</a>\u001b[0m \u001b[39melse\u001b[39;00m:\n\u001b[0;32m     <a href='vscode-notebook-cell:/c%3A/Users/Ryan%20Barry/OneDrive%20-%20rit.edu/Laptop%20Backup/Desktop/RIT/AI%20Explorations/Final_Project/train_agent.ipynb#W6sZmlsZQ%3D%3D?line=23'>24</a>\u001b[0m     command \u001b[39m=\u001b[39m \u001b[39mf\u001b[39m\u001b[39m\"\u001b[39m\u001b[39mpython capture.py -r baselineTeam -b myteam --delay-step 0 -q\u001b[39m\u001b[39m\"\u001b[39m\n\u001b[1;32m---> <a href='vscode-notebook-cell:/c%3A/Users/Ryan%20Barry/OneDrive%20-%20rit.edu/Laptop%20Backup/Desktop/RIT/AI%20Explorations/Final_Project/train_agent.ipynb#W6sZmlsZQ%3D%3D?line=24'>25</a>\u001b[0m result \u001b[39m=\u001b[39m subprocess\u001b[39m.\u001b[39;49mrun(command, stdout\u001b[39m=\u001b[39;49msubprocess\u001b[39m.\u001b[39;49mPIPE, stderr\u001b[39m=\u001b[39;49msubprocess\u001b[39m.\u001b[39;49mPIPE, shell\u001b[39m=\u001b[39;49m\u001b[39mTrue\u001b[39;49;00m)\n\u001b[0;32m     <a href='vscode-notebook-cell:/c%3A/Users/Ryan%20Barry/OneDrive%20-%20rit.edu/Laptop%20Backup/Desktop/RIT/AI%20Explorations/Final_Project/train_agent.ipynb#W6sZmlsZQ%3D%3D?line=25'>26</a>\u001b[0m \u001b[39mif\u001b[39;00m result\u001b[39m.\u001b[39mreturncode \u001b[39m!=\u001b[39m \u001b[39m0\u001b[39m:\n\u001b[0;32m     <a href='vscode-notebook-cell:/c%3A/Users/Ryan%20Barry/OneDrive%20-%20rit.edu/Laptop%20Backup/Desktop/RIT/AI%20Explorations/Final_Project/train_agent.ipynb#W6sZmlsZQ%3D%3D?line=26'>27</a>\u001b[0m     error_message \u001b[39m=\u001b[39m result\u001b[39m.\u001b[39mstderr\u001b[39m.\u001b[39mdecode(\u001b[39m\"\u001b[39m\u001b[39mutf-8\u001b[39m\u001b[39m\"\u001b[39m)\n",
      "File \u001b[1;32mC:\\Program Files\\WindowsApps\\PythonSoftwareFoundation.Python.3.10_3.10.3056.0_x64__qbz5n2kfra8p0\\lib\\subprocess.py:505\u001b[0m, in \u001b[0;36mrun\u001b[1;34m(input, capture_output, timeout, check, *popenargs, **kwargs)\u001b[0m\n\u001b[0;32m    503\u001b[0m \u001b[39mwith\u001b[39;00m Popen(\u001b[39m*\u001b[39mpopenargs, \u001b[39m*\u001b[39m\u001b[39m*\u001b[39mkwargs) \u001b[39mas\u001b[39;00m process:\n\u001b[0;32m    504\u001b[0m     \u001b[39mtry\u001b[39;00m:\n\u001b[1;32m--> 505\u001b[0m         stdout, stderr \u001b[39m=\u001b[39m process\u001b[39m.\u001b[39;49mcommunicate(\u001b[39minput\u001b[39;49m, timeout\u001b[39m=\u001b[39;49mtimeout)\n\u001b[0;32m    506\u001b[0m     \u001b[39mexcept\u001b[39;00m TimeoutExpired \u001b[39mas\u001b[39;00m exc:\n\u001b[0;32m    507\u001b[0m         process\u001b[39m.\u001b[39mkill()\n",
      "File \u001b[1;32mC:\\Program Files\\WindowsApps\\PythonSoftwareFoundation.Python.3.10_3.10.3056.0_x64__qbz5n2kfra8p0\\lib\\subprocess.py:1154\u001b[0m, in \u001b[0;36mPopen.communicate\u001b[1;34m(self, input, timeout)\u001b[0m\n\u001b[0;32m   1151\u001b[0m     endtime \u001b[39m=\u001b[39m \u001b[39mNone\u001b[39;00m\n\u001b[0;32m   1153\u001b[0m \u001b[39mtry\u001b[39;00m:\n\u001b[1;32m-> 1154\u001b[0m     stdout, stderr \u001b[39m=\u001b[39m \u001b[39mself\u001b[39;49m\u001b[39m.\u001b[39;49m_communicate(\u001b[39minput\u001b[39;49m, endtime, timeout)\n\u001b[0;32m   1155\u001b[0m \u001b[39mexcept\u001b[39;00m \u001b[39mKeyboardInterrupt\u001b[39;00m:\n\u001b[0;32m   1156\u001b[0m     \u001b[39m# https://bugs.python.org/issue25942\u001b[39;00m\n\u001b[0;32m   1157\u001b[0m     \u001b[39m# See the detailed comment in .wait().\u001b[39;00m\n\u001b[0;32m   1158\u001b[0m     \u001b[39mif\u001b[39;00m timeout \u001b[39mis\u001b[39;00m \u001b[39mnot\u001b[39;00m \u001b[39mNone\u001b[39;00m:\n",
      "File \u001b[1;32mC:\\Program Files\\WindowsApps\\PythonSoftwareFoundation.Python.3.10_3.10.3056.0_x64__qbz5n2kfra8p0\\lib\\subprocess.py:1544\u001b[0m, in \u001b[0;36mPopen._communicate\u001b[1;34m(self, input, endtime, orig_timeout)\u001b[0m\n\u001b[0;32m   1540\u001b[0m \u001b[39m# Wait for the reader threads, or time out.  If we time out, the\u001b[39;00m\n\u001b[0;32m   1541\u001b[0m \u001b[39m# threads remain reading and the fds left open in case the user\u001b[39;00m\n\u001b[0;32m   1542\u001b[0m \u001b[39m# calls communicate again.\u001b[39;00m\n\u001b[0;32m   1543\u001b[0m \u001b[39mif\u001b[39;00m \u001b[39mself\u001b[39m\u001b[39m.\u001b[39mstdout \u001b[39mis\u001b[39;00m \u001b[39mnot\u001b[39;00m \u001b[39mNone\u001b[39;00m:\n\u001b[1;32m-> 1544\u001b[0m     \u001b[39mself\u001b[39;49m\u001b[39m.\u001b[39;49mstdout_thread\u001b[39m.\u001b[39;49mjoin(\u001b[39mself\u001b[39;49m\u001b[39m.\u001b[39;49m_remaining_time(endtime))\n\u001b[0;32m   1545\u001b[0m     \u001b[39mif\u001b[39;00m \u001b[39mself\u001b[39m\u001b[39m.\u001b[39mstdout_thread\u001b[39m.\u001b[39mis_alive():\n\u001b[0;32m   1546\u001b[0m         \u001b[39mraise\u001b[39;00m TimeoutExpired(\u001b[39mself\u001b[39m\u001b[39m.\u001b[39margs, orig_timeout)\n",
      "File \u001b[1;32mC:\\Program Files\\WindowsApps\\PythonSoftwareFoundation.Python.3.10_3.10.3056.0_x64__qbz5n2kfra8p0\\lib\\threading.py:1096\u001b[0m, in \u001b[0;36mThread.join\u001b[1;34m(self, timeout)\u001b[0m\n\u001b[0;32m   1093\u001b[0m     \u001b[39mraise\u001b[39;00m \u001b[39mRuntimeError\u001b[39;00m(\u001b[39m\"\u001b[39m\u001b[39mcannot join current thread\u001b[39m\u001b[39m\"\u001b[39m)\n\u001b[0;32m   1095\u001b[0m \u001b[39mif\u001b[39;00m timeout \u001b[39mis\u001b[39;00m \u001b[39mNone\u001b[39;00m:\n\u001b[1;32m-> 1096\u001b[0m     \u001b[39mself\u001b[39;49m\u001b[39m.\u001b[39;49m_wait_for_tstate_lock()\n\u001b[0;32m   1097\u001b[0m \u001b[39melse\u001b[39;00m:\n\u001b[0;32m   1098\u001b[0m     \u001b[39m# the behavior of a negative timeout isn't documented, but\u001b[39;00m\n\u001b[0;32m   1099\u001b[0m     \u001b[39m# historically .join(timeout=x) for x<0 has acted as if timeout=0\u001b[39;00m\n\u001b[0;32m   1100\u001b[0m     \u001b[39mself\u001b[39m\u001b[39m.\u001b[39m_wait_for_tstate_lock(timeout\u001b[39m=\u001b[39m\u001b[39mmax\u001b[39m(timeout, \u001b[39m0\u001b[39m))\n",
      "File \u001b[1;32mC:\\Program Files\\WindowsApps\\PythonSoftwareFoundation.Python.3.10_3.10.3056.0_x64__qbz5n2kfra8p0\\lib\\threading.py:1116\u001b[0m, in \u001b[0;36mThread._wait_for_tstate_lock\u001b[1;34m(self, block, timeout)\u001b[0m\n\u001b[0;32m   1113\u001b[0m     \u001b[39mreturn\u001b[39;00m\n\u001b[0;32m   1115\u001b[0m \u001b[39mtry\u001b[39;00m:\n\u001b[1;32m-> 1116\u001b[0m     \u001b[39mif\u001b[39;00m lock\u001b[39m.\u001b[39;49macquire(block, timeout):\n\u001b[0;32m   1117\u001b[0m         lock\u001b[39m.\u001b[39mrelease()\n\u001b[0;32m   1118\u001b[0m         \u001b[39mself\u001b[39m\u001b[39m.\u001b[39m_stop()\n",
      "\u001b[1;31mKeyboardInterrupt\u001b[0m: "
     ]
    }
   ],
   "source": [
    "import subprocess\n",
    "import time\n",
    "from IPython.display import HTML, display, clear_output\n",
    "import json\n",
    "\n",
    "with open(\"offensiveParams.json\", 'r') as file:\n",
    "    offensive_params = json.load(file)\n",
    "\n",
    "num_episodes = offensive_params[\"num_episodes\"]\n",
    "\n",
    "# Function to display captured output\n",
    "def show_output(output):\n",
    "    display(HTML(\"<pre>\" + output.decode(\"utf-8\") + \"</pre>\"))\n",
    "\n",
    "\n",
    "red = True\n",
    "# Function to run the capture.py command for a given episode\n",
    "# Function to run the capture.py command for a given episode\n",
    "def run_episode(episode):\n",
    "    global red\n",
    "    if red:\n",
    "        command = f\"python capture.py -r myteam -b baselineTeam --delay-step 0 -q\"\n",
    "    else:\n",
    "        command = f\"python capture.py -r baselineTeam -b myteam --delay-step 0 -q\"\n",
    "    result = subprocess.run(command, stdout=subprocess.PIPE, stderr=subprocess.PIPE, shell=True)\n",
    "    if result.returncode != 0:\n",
    "        error_message = result.stderr.decode(\"utf-8\")\n",
    "        print(f\"Error in episode {episode + 1}: {error_message}\")\n",
    "    return result.returncode\n",
    "\n",
    "\n",
    "\n",
    "# Run episodes\n",
    "for episode in range(num_episodes, num_episodes + 10000):\n",
    "    return_code = run_episode(episode)\n",
    "    \n",
    "    if return_code == 0:\n",
    "        offensive_params = json.load(open(\"offensiveParams.json\", 'r'))\n",
    "        defensive_params = json.load(open(\"defensiveParams.json\", 'r'))\n",
    "        clear_output()\n",
    "        if red:\n",
    "            print(f\"Playing Episode {episode + 1} as Red\\n\")\n",
    "            red = False\n",
    "        else:\n",
    "            print(f\"Playing Episode {episode + 1} as Blue\\n\")\n",
    "            red = True\n",
    "        print(f\"Episode {episode + 1} completed successfully.  Offensive Reward: {offensive_params['total_reward'][-1]}.  Defensive Reward: {defensive_params['total_reward'][-1]}.\\n\")\n",
    "        print(f\"Defensive Agent Weights:\")\n",
    "        print(f\"\\tepsilon: {defensive_params['epsilon'][-1]}\")\n",
    "        print(f\"\\talpha: {defensive_params['alpha'][-1]}\")\n",
    "        print(f\"\\tdiscount: {defensive_params['discount'][-1]}\")\n",
    "        for key, value in defensive_params['weights'].items():\n",
    "            print(f\"\\t{key}: {value}\")\n",
    "        print(f\"\\nOffensive Agent Weights:\")\n",
    "        print(f\"\\tepsilon: {offensive_params['epsilon'][-1]}\")\n",
    "        print(f\"\\talpha: {offensive_params['alpha'][-1]}\")\n",
    "        print(f\"\\tdiscount: {offensive_params['discount'][-1]}\")\n",
    "        for key, value in offensive_params['weights'].items():\n",
    "            print(f\"\\t{key}: {value}\")\n",
    "    else:\n",
    "        print(f\"Error in episode {episode + 1}. Exiting.\")\n",
    "        break\n",
    "\n",
    "print(\"All episodes completed.\")\n"
   ]
  },
  {
   "cell_type": "code",
   "execution_count": 31,
   "metadata": {},
   "outputs": [],
   "source": [
    "from update_params import update_parameters\n",
    "update_parameters(\"offensiveParams.json\")\n",
    "update_parameters(\"defensiveParams.json\")\n"
   ]
  },
  {
   "cell_type": "code",
   "execution_count": 50,
   "metadata": {},
   "outputs": [],
   "source": [
    "import json\n",
    "defensive_params = json.load(open(\"defensiveParams_base.json\", 'r'))\n",
    "offensive_params = json.load(open(\"offensiveParams_base.json\", 'r'))\n",
    "json.dump(defensive_params, open(\"defensiveParams.json\", 'w'), indent=4)\n",
    "json.dump(offensive_params, open(\"offensiveParams.json\", 'w'), indent=4)"
   ]
  }
 ],
 "metadata": {
  "kernelspec": {
   "display_name": ".venv",
   "language": "python",
   "name": "python3"
  },
  "language_info": {
   "codemirror_mode": {
    "name": "ipython",
    "version": 3
   },
   "file_extension": ".py",
   "mimetype": "text/x-python",
   "name": "python",
   "nbconvert_exporter": "python",
   "pygments_lexer": "ipython3",
   "version": "3.10.11"
  }
 },
 "nbformat": 4,
 "nbformat_minor": 2
}
