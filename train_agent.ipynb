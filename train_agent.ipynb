{
 "cells": [
  {
   "cell_type": "markdown",
   "metadata": {},
   "source": [
    "# Q Learning for Pacman Capture the Flag"
   ]
  },
  {
   "cell_type": "code",
   "execution_count": null,
   "metadata": {},
   "outputs": [],
   "source": [
    "import json\n",
    "import random\n",
    "\n",
    "def update_parameters(param_json):\n",
    "    \"\"\"\n",
    "    Update epsilon, alpha, and discount based on the total reward per episode.\n",
    "    \"\"\"\n",
    "    # Load parameters from the JSON file\n",
    "    with open(param_json, 'r') as file:\n",
    "        params = json.load(file)\n",
    "\n",
    "    # Extract current values\n",
    "    epsilon = params[\"epsilon\"][-1]\n",
    "    alpha = params[\"alpha\"][-1]\n",
    "    discount = params[\"discount\"][-1]\n",
    "\n",
    "    reset_chance = 0.05  # Chance to reset parameters to initial values\n",
    "    \n",
    "    if len(params[\"total_reward\"]) < 2:\n",
    "        # Use initial values if there's not enough history\n",
    "        epsilon = 1.0\n",
    "        alpha = 0.2\n",
    "        discount = 0.8\n",
    "    elif random.random() < reset_chance:\n",
    "        # Reset parameters to initial values\n",
    "        epsilon = 1.0\n",
    "        alpha = 0.2\n",
    "        discount = 0.8\n",
    "    else:\n",
    "        total_reward = params[\"total_reward\"][-1]\n",
    "        prev_reward = params[\"total_reward\"][-2]\n",
    "\n",
    "        # Update epsilon based on total reward\n",
    "        if total_reward > prev_reward:\n",
    "            epsilon *= 0.95  # Decrease epsilon if total reward is high\n",
    "        elif total_reward < prev_reward:\n",
    "            epsilon *= 1.1  # Increase epsilon if total reward is low\n",
    "\n",
    "        # Update alpha based on total reward\n",
    "        if total_reward > prev_reward:\n",
    "            alpha *= 0.95  # Decrease alpha if total reward is high\n",
    "        elif total_reward < prev_reward:\n",
    "            alpha *= 1.1  # Increase alpha if total reward is low\n",
    "\n",
    "        # Update discount based on total reward\n",
    "        if total_reward > prev_reward:\n",
    "            discount *= 0.95  # Decrease discount if total reward is high\n",
    "        elif total_reward < prev_reward:\n",
    "            discount *= 1.1  # Increase discount if total reward is low\n",
    "\n",
    "        # Clip values to ensure they remain within valid ranges\n",
    "        epsilon = max(0.0, min(1.0, epsilon))\n",
    "        alpha = max(0.0, min(1.0, alpha))\n",
    "        discount = max(0.0, min(1.0, discount))\n",
    "\n",
    "    # Update the parameters dictionary\n",
    "    params[\"epsilon\"].append(epsilon)\n",
    "    params[\"alpha\"].append(alpha)\n",
    "    params[\"discount\"].append(discount)\n",
    "\n",
    "    # Save the updated parameters back to the JSON file\n",
    "    with open(param_json, 'w') as file:\n",
    "        json.dump(params, file, indent=4)\n"
   ]
  },
  {
   "cell_type": "code",
   "execution_count": 5,
   "metadata": {},
   "outputs": [
    {
     "data": {
      "text/plain": [
       "'c:\\\\Users\\\\Ryan Barry\\\\OneDrive - rit.edu\\\\Laptop Backup\\\\Desktop\\\\RIT\\\\AI Explorations\\\\Final_Project\\\\pacman-contest-3-master'"
      ]
     },
     "execution_count": 5,
     "metadata": {},
     "output_type": "execute_result"
    }
   ],
   "source": [
    "import os\n",
    "os.chdir(\"pacman-contest-3-master/\")\n",
    "os.getcwd()"
   ]
  },
  {
   "cell_type": "code",
   "execution_count": 28,
   "metadata": {},
   "outputs": [],
   "source": [
    "update_parameters(\"offensiveParams.json\")\n",
    "update_parameters(\"defensiveParams.json\")"
   ]
  },
  {
   "cell_type": "code",
   "execution_count": 22,
   "metadata": {},
   "outputs": [
    {
     "name": "stdout",
     "output_type": "stream",
     "text": [
      "\n",
      "Red team myteam with {}:\n",
      "myteam.py\n",
      "Loading Team: myteam.py\n",
      "Arguments: {}\n",
      "\n",
      "Blue team myteam with {}:\n",
      "myteam.py\n",
      "Loading Team: myteam.py\n",
      "Arguments: {}\n",
      "Red team starts\n",
      "Time is up.\n",
      "Tie game!\n",
      "\n",
      "Total Time Game: 3.0\n"
     ]
    },
    {
     "name": "stderr",
     "output_type": "stream",
     "text": [
      "c:\\Users\\Ryan Barry\\OneDrive - rit.edu\\Laptop Backup\\Desktop\\RIT\\AI Explorations\\Final_Project\\pacman-contest-3-master\\capture.py:61: DeprecationWarning: the imp module is deprecated in favour of importlib and slated for removal in Python 3.12; see the module's documentation for alternative uses\n",
      "  import sys, util, types, time, random, imp\n"
     ]
    },
    {
     "name": "stdout",
     "output_type": "stream",
     "text": [
      "\n",
      "Red team myteam with {}:\n",
      "myteam.py\n",
      "Loading Team: myteam.py\n",
      "Arguments: {}\n",
      "\n",
      "Blue team myteam with {}:\n",
      "myteam.py\n",
      "Loading Team: myteam.py\n",
      "Arguments: {}\n",
      "Red team starts\n",
      "Time is up.\n",
      "Tie game!\n",
      "\n",
      "Total Time Game: 2.0\n"
     ]
    },
    {
     "name": "stderr",
     "output_type": "stream",
     "text": [
      "c:\\Users\\Ryan Barry\\OneDrive - rit.edu\\Laptop Backup\\Desktop\\RIT\\AI Explorations\\Final_Project\\pacman-contest-3-master\\capture.py:61: DeprecationWarning: the imp module is deprecated in favour of importlib and slated for removal in Python 3.12; see the module's documentation for alternative uses\n",
      "  import sys, util, types, time, random, imp\n"
     ]
    },
    {
     "name": "stdout",
     "output_type": "stream",
     "text": [
      "^C\n"
     ]
    },
    {
     "ename": "JSONDecodeError",
     "evalue": "Expecting value: line 1 column 1 (char 0)",
     "output_type": "error",
     "traceback": [
      "\u001b[1;31m---------------------------------------------------------------------------\u001b[0m",
      "\u001b[1;31mJSONDecodeError\u001b[0m                           Traceback (most recent call last)",
      "\u001b[1;32mc:\\Users\\Ryan Barry\\OneDrive - rit.edu\\Laptop Backup\\Desktop\\RIT\\AI Explorations\\Final_Project\\train_agent.ipynb Cell 5\u001b[0m line \u001b[0;36m3\n\u001b[0;32m      <a href='vscode-notebook-cell:/c%3A/Users/Ryan%20Barry/OneDrive%20-%20rit.edu/Laptop%20Backup/Desktop/RIT/AI%20Explorations/Final_Project/train_agent.ipynb#W4sZmlsZQ%3D%3D?line=0'>1</a>\u001b[0m \u001b[39mfor\u001b[39;00m episode \u001b[39min\u001b[39;00m \u001b[39mrange\u001b[39m(\u001b[39m1000\u001b[39m):\n\u001b[0;32m      <a href='vscode-notebook-cell:/c%3A/Users/Ryan%20Barry/OneDrive%20-%20rit.edu/Laptop%20Backup/Desktop/RIT/AI%20Explorations/Final_Project/train_agent.ipynb#W4sZmlsZQ%3D%3D?line=1'>2</a>\u001b[0m     get_ipython()\u001b[39m.\u001b[39msystem(\u001b[39m'\u001b[39m\u001b[39mpython capture.py -r myteam -b myteam  --delay-step 0 -q\u001b[39m\u001b[39m'\u001b[39m)\n\u001b[1;32m----> <a href='vscode-notebook-cell:/c%3A/Users/Ryan%20Barry/OneDrive%20-%20rit.edu/Laptop%20Backup/Desktop/RIT/AI%20Explorations/Final_Project/train_agent.ipynb#W4sZmlsZQ%3D%3D?line=2'>3</a>\u001b[0m     update_parameters(\u001b[39m\"\u001b[39;49m\u001b[39moffensiveParams.json\u001b[39;49m\u001b[39m\"\u001b[39;49m)\n\u001b[0;32m      <a href='vscode-notebook-cell:/c%3A/Users/Ryan%20Barry/OneDrive%20-%20rit.edu/Laptop%20Backup/Desktop/RIT/AI%20Explorations/Final_Project/train_agent.ipynb#W4sZmlsZQ%3D%3D?line=3'>4</a>\u001b[0m     update_parameters(\u001b[39m\"\u001b[39m\u001b[39mdefensiveParams.json\u001b[39m\u001b[39m\"\u001b[39m)\n",
      "\u001b[1;32mc:\\Users\\Ryan Barry\\OneDrive - rit.edu\\Laptop Backup\\Desktop\\RIT\\AI Explorations\\Final_Project\\train_agent.ipynb Cell 5\u001b[0m line \u001b[0;36m1\n\u001b[0;32m      <a href='vscode-notebook-cell:/c%3A/Users/Ryan%20Barry/OneDrive%20-%20rit.edu/Laptop%20Backup/Desktop/RIT/AI%20Explorations/Final_Project/train_agent.ipynb#W4sZmlsZQ%3D%3D?line=7'>8</a>\u001b[0m \u001b[39m# Load parameters from the JSON file\u001b[39;00m\n\u001b[0;32m      <a href='vscode-notebook-cell:/c%3A/Users/Ryan%20Barry/OneDrive%20-%20rit.edu/Laptop%20Backup/Desktop/RIT/AI%20Explorations/Final_Project/train_agent.ipynb#W4sZmlsZQ%3D%3D?line=8'>9</a>\u001b[0m \u001b[39mwith\u001b[39;00m \u001b[39mopen\u001b[39m(param_json, \u001b[39m'\u001b[39m\u001b[39mr\u001b[39m\u001b[39m'\u001b[39m) \u001b[39mas\u001b[39;00m file:\n\u001b[1;32m---> <a href='vscode-notebook-cell:/c%3A/Users/Ryan%20Barry/OneDrive%20-%20rit.edu/Laptop%20Backup/Desktop/RIT/AI%20Explorations/Final_Project/train_agent.ipynb#W4sZmlsZQ%3D%3D?line=9'>10</a>\u001b[0m     params \u001b[39m=\u001b[39m json\u001b[39m.\u001b[39;49mload(file)\n\u001b[0;32m     <a href='vscode-notebook-cell:/c%3A/Users/Ryan%20Barry/OneDrive%20-%20rit.edu/Laptop%20Backup/Desktop/RIT/AI%20Explorations/Final_Project/train_agent.ipynb#W4sZmlsZQ%3D%3D?line=11'>12</a>\u001b[0m \u001b[39m# Extract current values\u001b[39;00m\n\u001b[0;32m     <a href='vscode-notebook-cell:/c%3A/Users/Ryan%20Barry/OneDrive%20-%20rit.edu/Laptop%20Backup/Desktop/RIT/AI%20Explorations/Final_Project/train_agent.ipynb#W4sZmlsZQ%3D%3D?line=12'>13</a>\u001b[0m epsilon \u001b[39m=\u001b[39m params[\u001b[39m\"\u001b[39m\u001b[39mepsilon\u001b[39m\u001b[39m\"\u001b[39m][\u001b[39m-\u001b[39m\u001b[39m1\u001b[39m]\n",
      "File \u001b[1;32mC:\\Program Files\\WindowsApps\\PythonSoftwareFoundation.Python.3.10_3.10.3056.0_x64__qbz5n2kfra8p0\\lib\\json\\__init__.py:293\u001b[0m, in \u001b[0;36mload\u001b[1;34m(fp, cls, object_hook, parse_float, parse_int, parse_constant, object_pairs_hook, **kw)\u001b[0m\n\u001b[0;32m    274\u001b[0m \u001b[39mdef\u001b[39;00m \u001b[39mload\u001b[39m(fp, \u001b[39m*\u001b[39m, \u001b[39mcls\u001b[39m\u001b[39m=\u001b[39m\u001b[39mNone\u001b[39;00m, object_hook\u001b[39m=\u001b[39m\u001b[39mNone\u001b[39;00m, parse_float\u001b[39m=\u001b[39m\u001b[39mNone\u001b[39;00m,\n\u001b[0;32m    275\u001b[0m         parse_int\u001b[39m=\u001b[39m\u001b[39mNone\u001b[39;00m, parse_constant\u001b[39m=\u001b[39m\u001b[39mNone\u001b[39;00m, object_pairs_hook\u001b[39m=\u001b[39m\u001b[39mNone\u001b[39;00m, \u001b[39m*\u001b[39m\u001b[39m*\u001b[39mkw):\n\u001b[0;32m    276\u001b[0m \u001b[39m    \u001b[39m\u001b[39m\"\"\"Deserialize ``fp`` (a ``.read()``-supporting file-like object containing\u001b[39;00m\n\u001b[0;32m    277\u001b[0m \u001b[39m    a JSON document) to a Python object.\u001b[39;00m\n\u001b[0;32m    278\u001b[0m \n\u001b[1;32m   (...)\u001b[0m\n\u001b[0;32m    291\u001b[0m \u001b[39m    kwarg; otherwise ``JSONDecoder`` is used.\u001b[39;00m\n\u001b[0;32m    292\u001b[0m \u001b[39m    \"\"\"\u001b[39;00m\n\u001b[1;32m--> 293\u001b[0m     \u001b[39mreturn\u001b[39;00m loads(fp\u001b[39m.\u001b[39mread(),\n\u001b[0;32m    294\u001b[0m         \u001b[39mcls\u001b[39m\u001b[39m=\u001b[39m\u001b[39mcls\u001b[39m, object_hook\u001b[39m=\u001b[39mobject_hook,\n\u001b[0;32m    295\u001b[0m         parse_float\u001b[39m=\u001b[39mparse_float, parse_int\u001b[39m=\u001b[39mparse_int,\n\u001b[0;32m    296\u001b[0m         parse_constant\u001b[39m=\u001b[39mparse_constant, object_pairs_hook\u001b[39m=\u001b[39mobject_pairs_hook, \u001b[39m*\u001b[39m\u001b[39m*\u001b[39mkw)\n",
      "File \u001b[1;32mC:\\Program Files\\WindowsApps\\PythonSoftwareFoundation.Python.3.10_3.10.3056.0_x64__qbz5n2kfra8p0\\lib\\json\\__init__.py:346\u001b[0m, in \u001b[0;36mloads\u001b[1;34m(s, cls, object_hook, parse_float, parse_int, parse_constant, object_pairs_hook, **kw)\u001b[0m\n\u001b[0;32m    341\u001b[0m     s \u001b[39m=\u001b[39m s\u001b[39m.\u001b[39mdecode(detect_encoding(s), \u001b[39m'\u001b[39m\u001b[39msurrogatepass\u001b[39m\u001b[39m'\u001b[39m)\n\u001b[0;32m    343\u001b[0m \u001b[39mif\u001b[39;00m (\u001b[39mcls\u001b[39m \u001b[39mis\u001b[39;00m \u001b[39mNone\u001b[39;00m \u001b[39mand\u001b[39;00m object_hook \u001b[39mis\u001b[39;00m \u001b[39mNone\u001b[39;00m \u001b[39mand\u001b[39;00m\n\u001b[0;32m    344\u001b[0m         parse_int \u001b[39mis\u001b[39;00m \u001b[39mNone\u001b[39;00m \u001b[39mand\u001b[39;00m parse_float \u001b[39mis\u001b[39;00m \u001b[39mNone\u001b[39;00m \u001b[39mand\u001b[39;00m\n\u001b[0;32m    345\u001b[0m         parse_constant \u001b[39mis\u001b[39;00m \u001b[39mNone\u001b[39;00m \u001b[39mand\u001b[39;00m object_pairs_hook \u001b[39mis\u001b[39;00m \u001b[39mNone\u001b[39;00m \u001b[39mand\u001b[39;00m \u001b[39mnot\u001b[39;00m kw):\n\u001b[1;32m--> 346\u001b[0m     \u001b[39mreturn\u001b[39;00m _default_decoder\u001b[39m.\u001b[39;49mdecode(s)\n\u001b[0;32m    347\u001b[0m \u001b[39mif\u001b[39;00m \u001b[39mcls\u001b[39m \u001b[39mis\u001b[39;00m \u001b[39mNone\u001b[39;00m:\n\u001b[0;32m    348\u001b[0m     \u001b[39mcls\u001b[39m \u001b[39m=\u001b[39m JSONDecoder\n",
      "File \u001b[1;32mC:\\Program Files\\WindowsApps\\PythonSoftwareFoundation.Python.3.10_3.10.3056.0_x64__qbz5n2kfra8p0\\lib\\json\\decoder.py:337\u001b[0m, in \u001b[0;36mJSONDecoder.decode\u001b[1;34m(self, s, _w)\u001b[0m\n\u001b[0;32m    332\u001b[0m \u001b[39mdef\u001b[39;00m \u001b[39mdecode\u001b[39m(\u001b[39mself\u001b[39m, s, _w\u001b[39m=\u001b[39mWHITESPACE\u001b[39m.\u001b[39mmatch):\n\u001b[0;32m    333\u001b[0m \u001b[39m    \u001b[39m\u001b[39m\"\"\"Return the Python representation of ``s`` (a ``str`` instance\u001b[39;00m\n\u001b[0;32m    334\u001b[0m \u001b[39m    containing a JSON document).\u001b[39;00m\n\u001b[0;32m    335\u001b[0m \n\u001b[0;32m    336\u001b[0m \u001b[39m    \"\"\"\u001b[39;00m\n\u001b[1;32m--> 337\u001b[0m     obj, end \u001b[39m=\u001b[39m \u001b[39mself\u001b[39;49m\u001b[39m.\u001b[39;49mraw_decode(s, idx\u001b[39m=\u001b[39;49m_w(s, \u001b[39m0\u001b[39;49m)\u001b[39m.\u001b[39;49mend())\n\u001b[0;32m    338\u001b[0m     end \u001b[39m=\u001b[39m _w(s, end)\u001b[39m.\u001b[39mend()\n\u001b[0;32m    339\u001b[0m     \u001b[39mif\u001b[39;00m end \u001b[39m!=\u001b[39m \u001b[39mlen\u001b[39m(s):\n",
      "File \u001b[1;32mC:\\Program Files\\WindowsApps\\PythonSoftwareFoundation.Python.3.10_3.10.3056.0_x64__qbz5n2kfra8p0\\lib\\json\\decoder.py:355\u001b[0m, in \u001b[0;36mJSONDecoder.raw_decode\u001b[1;34m(self, s, idx)\u001b[0m\n\u001b[0;32m    353\u001b[0m     obj, end \u001b[39m=\u001b[39m \u001b[39mself\u001b[39m\u001b[39m.\u001b[39mscan_once(s, idx)\n\u001b[0;32m    354\u001b[0m \u001b[39mexcept\u001b[39;00m \u001b[39mStopIteration\u001b[39;00m \u001b[39mas\u001b[39;00m err:\n\u001b[1;32m--> 355\u001b[0m     \u001b[39mraise\u001b[39;00m JSONDecodeError(\u001b[39m\"\u001b[39m\u001b[39mExpecting value\u001b[39m\u001b[39m\"\u001b[39m, s, err\u001b[39m.\u001b[39mvalue) \u001b[39mfrom\u001b[39;00m \u001b[39mNone\u001b[39;00m\n\u001b[0;32m    356\u001b[0m \u001b[39mreturn\u001b[39;00m obj, end\n",
      "\u001b[1;31mJSONDecodeError\u001b[0m: Expecting value: line 1 column 1 (char 0)"
     ]
    },
    {
     "name": "stderr",
     "output_type": "stream",
     "text": [
      "c:\\Users\\Ryan Barry\\OneDrive - rit.edu\\Laptop Backup\\Desktop\\RIT\\AI Explorations\\Final_Project\\pacman-contest-3-master\\capture.py:61: DeprecationWarning: the imp module is deprecated in favour of importlib and slated for removal in Python 3.12; see the module's documentation for alternative uses\n",
      "  import sys, util, types, time, random, imp\n"
     ]
    },
    {
     "name": "stdout",
     "output_type": "stream",
     "text": [
      "\n",
      "Red team myteam with {}:\n",
      "myteam.py\n",
      "Loading Team: myteam.py\n",
      "Arguments: {}\n",
      "\n",
      "Blue team myteam with {}:\n",
      "myteam.py\n",
      "Loading Team: myteam.py\n",
      "Arguments: {}\n",
      "Red team starts\n",
      "Time is up.\n",
      "Tie game!\n",
      "\n",
      "Total Time Game: 2.0\n"
     ]
    }
   ],
   "source": [
    "for episode in range(1000):\n",
    "    !python capture.py -r myteam -b myteam  --delay-step 0 -q\n",
    "    update_parameters(\"offensiveParams.json\")\n",
    "    update_parameters(\"defensiveParams.json\")"
   ]
  },
  {
   "cell_type": "code",
   "execution_count": 39,
   "metadata": {},
   "outputs": [
    {
     "name": "stdout",
     "output_type": "stream",
     "text": [
      "Episode 63 completed successfully.\n"
     ]
    },
    {
     "ename": "KeyboardInterrupt",
     "evalue": "",
     "output_type": "error",
     "traceback": [
      "\u001b[1;31m---------------------------------------------------------------------------\u001b[0m",
      "\u001b[1;31mKeyboardInterrupt\u001b[0m                         Traceback (most recent call last)",
      "\u001b[1;32mc:\\Users\\Ryan Barry\\OneDrive - rit.edu\\Laptop Backup\\Desktop\\RIT\\AI Explorations\\Final_Project\\train_agent.ipynb Cell 6\u001b[0m line \u001b[0;36m2\n\u001b[0;32m     <a href='vscode-notebook-cell:/c%3A/Users/Ryan%20Barry/OneDrive%20-%20rit.edu/Laptop%20Backup/Desktop/RIT/AI%20Explorations/Final_Project/train_agent.ipynb#W5sZmlsZQ%3D%3D?line=20'>21</a>\u001b[0m \u001b[39m# Run episodes\u001b[39;00m\n\u001b[0;32m     <a href='vscode-notebook-cell:/c%3A/Users/Ryan%20Barry/OneDrive%20-%20rit.edu/Laptop%20Backup/Desktop/RIT/AI%20Explorations/Final_Project/train_agent.ipynb#W5sZmlsZQ%3D%3D?line=21'>22</a>\u001b[0m \u001b[39mfor\u001b[39;00m episode \u001b[39min\u001b[39;00m \u001b[39mrange\u001b[39m(num_episodes, num_episodes \u001b[39m+\u001b[39m \u001b[39m1000\u001b[39m):\n\u001b[1;32m---> <a href='vscode-notebook-cell:/c%3A/Users/Ryan%20Barry/OneDrive%20-%20rit.edu/Laptop%20Backup/Desktop/RIT/AI%20Explorations/Final_Project/train_agent.ipynb#W5sZmlsZQ%3D%3D?line=22'>23</a>\u001b[0m     return_code \u001b[39m=\u001b[39m run_episode(episode)\n\u001b[0;32m     <a href='vscode-notebook-cell:/c%3A/Users/Ryan%20Barry/OneDrive%20-%20rit.edu/Laptop%20Backup/Desktop/RIT/AI%20Explorations/Final_Project/train_agent.ipynb#W5sZmlsZQ%3D%3D?line=24'>25</a>\u001b[0m     \u001b[39mif\u001b[39;00m return_code \u001b[39m==\u001b[39m \u001b[39m0\u001b[39m:\n\u001b[0;32m     <a href='vscode-notebook-cell:/c%3A/Users/Ryan%20Barry/OneDrive%20-%20rit.edu/Laptop%20Backup/Desktop/RIT/AI%20Explorations/Final_Project/train_agent.ipynb#W5sZmlsZQ%3D%3D?line=25'>26</a>\u001b[0m         clear_output()\n",
      "\u001b[1;32mc:\\Users\\Ryan Barry\\OneDrive - rit.edu\\Laptop Backup\\Desktop\\RIT\\AI Explorations\\Final_Project\\train_agent.ipynb Cell 6\u001b[0m line \u001b[0;36m1\n\u001b[0;32m     <a href='vscode-notebook-cell:/c%3A/Users/Ryan%20Barry/OneDrive%20-%20rit.edu/Laptop%20Backup/Desktop/RIT/AI%20Explorations/Final_Project/train_agent.ipynb#W5sZmlsZQ%3D%3D?line=14'>15</a>\u001b[0m \u001b[39mdef\u001b[39;00m \u001b[39mrun_episode\u001b[39m(episode):\n\u001b[0;32m     <a href='vscode-notebook-cell:/c%3A/Users/Ryan%20Barry/OneDrive%20-%20rit.edu/Laptop%20Backup/Desktop/RIT/AI%20Explorations/Final_Project/train_agent.ipynb#W5sZmlsZQ%3D%3D?line=15'>16</a>\u001b[0m     command \u001b[39m=\u001b[39m \u001b[39mf\u001b[39m\u001b[39m\"\u001b[39m\u001b[39mpython capture.py -r myteam -b myteam --delay-step 0 -q\u001b[39m\u001b[39m\"\u001b[39m\n\u001b[1;32m---> <a href='vscode-notebook-cell:/c%3A/Users/Ryan%20Barry/OneDrive%20-%20rit.edu/Laptop%20Backup/Desktop/RIT/AI%20Explorations/Final_Project/train_agent.ipynb#W5sZmlsZQ%3D%3D?line=16'>17</a>\u001b[0m     result \u001b[39m=\u001b[39m subprocess\u001b[39m.\u001b[39;49mrun(command, stdout\u001b[39m=\u001b[39;49msubprocess\u001b[39m.\u001b[39;49mPIPE, stderr\u001b[39m=\u001b[39;49msubprocess\u001b[39m.\u001b[39;49mPIPE, shell\u001b[39m=\u001b[39;49m\u001b[39mTrue\u001b[39;49;00m)\n\u001b[0;32m     <a href='vscode-notebook-cell:/c%3A/Users/Ryan%20Barry/OneDrive%20-%20rit.edu/Laptop%20Backup/Desktop/RIT/AI%20Explorations/Final_Project/train_agent.ipynb#W5sZmlsZQ%3D%3D?line=17'>18</a>\u001b[0m     \u001b[39mreturn\u001b[39;00m result\u001b[39m.\u001b[39mreturncode\n",
      "File \u001b[1;32mC:\\Program Files\\WindowsApps\\PythonSoftwareFoundation.Python.3.10_3.10.3056.0_x64__qbz5n2kfra8p0\\lib\\subprocess.py:505\u001b[0m, in \u001b[0;36mrun\u001b[1;34m(input, capture_output, timeout, check, *popenargs, **kwargs)\u001b[0m\n\u001b[0;32m    503\u001b[0m \u001b[39mwith\u001b[39;00m Popen(\u001b[39m*\u001b[39mpopenargs, \u001b[39m*\u001b[39m\u001b[39m*\u001b[39mkwargs) \u001b[39mas\u001b[39;00m process:\n\u001b[0;32m    504\u001b[0m     \u001b[39mtry\u001b[39;00m:\n\u001b[1;32m--> 505\u001b[0m         stdout, stderr \u001b[39m=\u001b[39m process\u001b[39m.\u001b[39;49mcommunicate(\u001b[39minput\u001b[39;49m, timeout\u001b[39m=\u001b[39;49mtimeout)\n\u001b[0;32m    506\u001b[0m     \u001b[39mexcept\u001b[39;00m TimeoutExpired \u001b[39mas\u001b[39;00m exc:\n\u001b[0;32m    507\u001b[0m         process\u001b[39m.\u001b[39mkill()\n",
      "File \u001b[1;32mC:\\Program Files\\WindowsApps\\PythonSoftwareFoundation.Python.3.10_3.10.3056.0_x64__qbz5n2kfra8p0\\lib\\subprocess.py:1154\u001b[0m, in \u001b[0;36mPopen.communicate\u001b[1;34m(self, input, timeout)\u001b[0m\n\u001b[0;32m   1151\u001b[0m     endtime \u001b[39m=\u001b[39m \u001b[39mNone\u001b[39;00m\n\u001b[0;32m   1153\u001b[0m \u001b[39mtry\u001b[39;00m:\n\u001b[1;32m-> 1154\u001b[0m     stdout, stderr \u001b[39m=\u001b[39m \u001b[39mself\u001b[39;49m\u001b[39m.\u001b[39;49m_communicate(\u001b[39minput\u001b[39;49m, endtime, timeout)\n\u001b[0;32m   1155\u001b[0m \u001b[39mexcept\u001b[39;00m \u001b[39mKeyboardInterrupt\u001b[39;00m:\n\u001b[0;32m   1156\u001b[0m     \u001b[39m# https://bugs.python.org/issue25942\u001b[39;00m\n\u001b[0;32m   1157\u001b[0m     \u001b[39m# See the detailed comment in .wait().\u001b[39;00m\n\u001b[0;32m   1158\u001b[0m     \u001b[39mif\u001b[39;00m timeout \u001b[39mis\u001b[39;00m \u001b[39mnot\u001b[39;00m \u001b[39mNone\u001b[39;00m:\n",
      "File \u001b[1;32mC:\\Program Files\\WindowsApps\\PythonSoftwareFoundation.Python.3.10_3.10.3056.0_x64__qbz5n2kfra8p0\\lib\\subprocess.py:1544\u001b[0m, in \u001b[0;36mPopen._communicate\u001b[1;34m(self, input, endtime, orig_timeout)\u001b[0m\n\u001b[0;32m   1540\u001b[0m \u001b[39m# Wait for the reader threads, or time out.  If we time out, the\u001b[39;00m\n\u001b[0;32m   1541\u001b[0m \u001b[39m# threads remain reading and the fds left open in case the user\u001b[39;00m\n\u001b[0;32m   1542\u001b[0m \u001b[39m# calls communicate again.\u001b[39;00m\n\u001b[0;32m   1543\u001b[0m \u001b[39mif\u001b[39;00m \u001b[39mself\u001b[39m\u001b[39m.\u001b[39mstdout \u001b[39mis\u001b[39;00m \u001b[39mnot\u001b[39;00m \u001b[39mNone\u001b[39;00m:\n\u001b[1;32m-> 1544\u001b[0m     \u001b[39mself\u001b[39;49m\u001b[39m.\u001b[39;49mstdout_thread\u001b[39m.\u001b[39;49mjoin(\u001b[39mself\u001b[39;49m\u001b[39m.\u001b[39;49m_remaining_time(endtime))\n\u001b[0;32m   1545\u001b[0m     \u001b[39mif\u001b[39;00m \u001b[39mself\u001b[39m\u001b[39m.\u001b[39mstdout_thread\u001b[39m.\u001b[39mis_alive():\n\u001b[0;32m   1546\u001b[0m         \u001b[39mraise\u001b[39;00m TimeoutExpired(\u001b[39mself\u001b[39m\u001b[39m.\u001b[39margs, orig_timeout)\n",
      "File \u001b[1;32mC:\\Program Files\\WindowsApps\\PythonSoftwareFoundation.Python.3.10_3.10.3056.0_x64__qbz5n2kfra8p0\\lib\\threading.py:1096\u001b[0m, in \u001b[0;36mThread.join\u001b[1;34m(self, timeout)\u001b[0m\n\u001b[0;32m   1093\u001b[0m     \u001b[39mraise\u001b[39;00m \u001b[39mRuntimeError\u001b[39;00m(\u001b[39m\"\u001b[39m\u001b[39mcannot join current thread\u001b[39m\u001b[39m\"\u001b[39m)\n\u001b[0;32m   1095\u001b[0m \u001b[39mif\u001b[39;00m timeout \u001b[39mis\u001b[39;00m \u001b[39mNone\u001b[39;00m:\n\u001b[1;32m-> 1096\u001b[0m     \u001b[39mself\u001b[39;49m\u001b[39m.\u001b[39;49m_wait_for_tstate_lock()\n\u001b[0;32m   1097\u001b[0m \u001b[39melse\u001b[39;00m:\n\u001b[0;32m   1098\u001b[0m     \u001b[39m# the behavior of a negative timeout isn't documented, but\u001b[39;00m\n\u001b[0;32m   1099\u001b[0m     \u001b[39m# historically .join(timeout=x) for x<0 has acted as if timeout=0\u001b[39;00m\n\u001b[0;32m   1100\u001b[0m     \u001b[39mself\u001b[39m\u001b[39m.\u001b[39m_wait_for_tstate_lock(timeout\u001b[39m=\u001b[39m\u001b[39mmax\u001b[39m(timeout, \u001b[39m0\u001b[39m))\n",
      "File \u001b[1;32mC:\\Program Files\\WindowsApps\\PythonSoftwareFoundation.Python.3.10_3.10.3056.0_x64__qbz5n2kfra8p0\\lib\\threading.py:1116\u001b[0m, in \u001b[0;36mThread._wait_for_tstate_lock\u001b[1;34m(self, block, timeout)\u001b[0m\n\u001b[0;32m   1113\u001b[0m     \u001b[39mreturn\u001b[39;00m\n\u001b[0;32m   1115\u001b[0m \u001b[39mtry\u001b[39;00m:\n\u001b[1;32m-> 1116\u001b[0m     \u001b[39mif\u001b[39;00m lock\u001b[39m.\u001b[39;49macquire(block, timeout):\n\u001b[0;32m   1117\u001b[0m         lock\u001b[39m.\u001b[39mrelease()\n\u001b[0;32m   1118\u001b[0m         \u001b[39mself\u001b[39m\u001b[39m.\u001b[39m_stop()\n",
      "\u001b[1;31mKeyboardInterrupt\u001b[0m: "
     ]
    }
   ],
   "source": [
    "import subprocess\n",
    "import time\n",
    "from IPython.display import HTML, display, clear_output\n",
    "\n",
    "with open(\"offensiveParams.json\", 'r') as file:\n",
    "    offensive_params = json.load(file)\n",
    "\n",
    "num_episodes = offensive_params[\"num_episodes\"]\n",
    "\n",
    "# Function to display captured output\n",
    "def show_output(output):\n",
    "    display(HTML(\"<pre>\" + output.decode(\"utf-8\") + \"</pre>\"))\n",
    "\n",
    "# Function to run the capture.py command for a given episode\n",
    "def run_episode(episode):\n",
    "    command = f\"python capture.py -r myteam -b myteam --delay-step 0 -q\"\n",
    "    result = subprocess.run(command, stdout=subprocess.PIPE, stderr=subprocess.PIPE, shell=True)\n",
    "    return result.returncode\n",
    "\n",
    "\n",
    "# Run episodes\n",
    "for episode in range(num_episodes, num_episodes + 1000):\n",
    "    return_code = run_episode(episode)\n",
    "    \n",
    "    if return_code == 0:\n",
    "        offensive_params = json.load(open(\"offensiveParams.json\", 'r'))\n",
    "        defensive_params = json.load(open(\"defensiveParams.json\", 'r'))\n",
    "        clear_output()\n",
    "        print(f\"Episode {episode + 1} completed successfully.  Offensive Reward: {offensive_params['total_reward'][-1]}.  Defensive Reward: {defensive_params['total_reward'][-1]}.\")\n",
    "    else:\n",
    "        print(f\"Error in episode {episode + 1}. Exiting.\")\n",
    "        break\n",
    "\n",
    "print(\"All episodes completed.\")\n"
   ]
  },
  {
   "cell_type": "code",
   "execution_count": 14,
   "metadata": {},
   "outputs": [
    {
     "ename": "AttributeError",
     "evalue": "module 'capture' has no attribute 'CaptureGame'",
     "output_type": "error",
     "traceback": [
      "\u001b[1;31m---------------------------------------------------------------------------\u001b[0m",
      "\u001b[1;31mAttributeError\u001b[0m                            Traceback (most recent call last)",
      "\u001b[1;32mc:\\Users\\Ryan Barry\\OneDrive - rit.edu\\Laptop Backup\\Desktop\\RIT\\AI Explorations\\Final_Project\\train_agent.ipynb Cell 7\u001b[0m line \u001b[0;36m2\n\u001b[0;32m      <a href='vscode-notebook-cell:/c%3A/Users/Ryan%20Barry/OneDrive%20-%20rit.edu/Laptop%20Backup/Desktop/RIT/AI%20Explorations/Final_Project/train_agent.ipynb#W6sZmlsZQ%3D%3D?line=0'>1</a>\u001b[0m \u001b[39mimport\u001b[39;00m \u001b[39mcapture\u001b[39;00m\n\u001b[1;32m----> <a href='vscode-notebook-cell:/c%3A/Users/Ryan%20Barry/OneDrive%20-%20rit.edu/Laptop%20Backup/Desktop/RIT/AI%20Explorations/Final_Project/train_agent.ipynb#W6sZmlsZQ%3D%3D?line=1'>2</a>\u001b[0m game \u001b[39m=\u001b[39m capture\u001b[39m.\u001b[39;49mCaptureGame()\n",
      "\u001b[1;31mAttributeError\u001b[0m: module 'capture' has no attribute 'CaptureGame'"
     ]
    }
   ],
   "source": [
    "import capture\n",
    "game = capture.CaptureGame()"
   ]
  }
 ],
 "metadata": {
  "kernelspec": {
   "display_name": ".venv",
   "language": "python",
   "name": "python3"
  },
  "language_info": {
   "codemirror_mode": {
    "name": "ipython",
    "version": 3
   },
   "file_extension": ".py",
   "mimetype": "text/x-python",
   "name": "python",
   "nbconvert_exporter": "python",
   "pygments_lexer": "ipython3",
   "version": "3.10.11"
  }
 },
 "nbformat": 4,
 "nbformat_minor": 2
}
