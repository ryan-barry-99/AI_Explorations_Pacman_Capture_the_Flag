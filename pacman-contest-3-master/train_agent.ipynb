{
 "cells": [
  {
   "cell_type": "markdown",
   "metadata": {},
   "source": [
    "# Q Learning for Pacman Capture the Flag"
   ]
  },
  {
   "cell_type": "code",
   "execution_count": 1,
   "metadata": {},
   "outputs": [
    {
     "data": {
      "text/plain": [
       "'c:\\\\Users\\\\Ryan Barry\\\\OneDrive - rit.edu\\\\Laptop Backup\\\\Desktop\\\\RIT\\\\AI Explorations\\\\Final_Project\\\\pacman-contest-3-master'"
      ]
     },
     "execution_count": 1,
     "metadata": {},
     "output_type": "execute_result"
    }
   ],
   "source": [
    "import os\n",
    "os.chdir(\"pacman-contest-3-master/\")\n",
    "os.getcwd()"
   ]
  },
  {
   "cell_type": "code",
   "execution_count": 17,
   "metadata": {},
   "outputs": [],
   "source": [
    "import json\n",
    "defensive_params = json.load(open(\"defensiveParams_base.json\", 'r'))\n",
    "offensive_params = json.load(open(\"offensiveParams_base.json\", 'r'))\n",
    "json.dump(defensive_params, open(\"defensiveParams.json\", 'w'), indent=4)\n",
    "json.dump(offensive_params, open(\"offensiveParams.json\", 'w'), indent=4)"
   ]
  },
  {
   "cell_type": "code",
   "execution_count": 18,
   "metadata": {},
   "outputs": [],
   "source": [
    "import json\n",
    "defensive_params = json.load(open(\"defensiveParams_base.json\", 'r'))\n",
    "offensive_params = json.load(open(\"offensiveParams_base.json\", 'r'))\n",
    "offensive_params[\"epsilon\"] = [0]\n",
    "defensive_params[\"epsilon\"] = [0]\n",
    "json.dump(defensive_params, open(\"defensiveParams.json\", 'w'), indent=4)\n",
    "json.dump(offensive_params, open(\"offensiveParams.json\", 'w'), indent=4)"
   ]
  },
  {
   "cell_type": "code",
   "execution_count": 14,
   "metadata": {},
   "outputs": [
    {
     "name": "stdout",
     "output_type": "stream",
     "text": [
      "Playing Episode 3609 as Blue\n",
      "\n",
      "Episode 3609 completed successfully.  Offensive Reward: -160.11239261380453.  Defensive Reward: -672.2799999999991.\n",
      "\n",
      "Defensive Agent Weights:\n",
      "\tepsilon: 0.5007262859999999\n",
      "\talpha: 0.1001\n",
      "\tdiscount: 0.99\n",
      "\tdistance_to_start: -23.523054742251848\n",
      "\tnum_invaders: 15399.862285587244\n",
      "\tdistance_from_middle: -300.8743534644096\n",
      "\tdistance_from_closest_invader: -1210.180757973479\n",
      "\tscared_distance: 0.0\n",
      "\tdistance_to_home: 0.0\n",
      "\tinvader_captured: 0.0\n",
      "\tfood_protected: 0.0\n",
      "\tavoided_ghost: 0.0\n",
      "\tambush_location: 0.0\n",
      "\tbias: 3680.241336279844\n",
      "\n",
      "Offensive Agent Weights:\n",
      "\tepsilon: 0.3351298992211166\n",
      "\talpha: 0.1001\n",
      "\tdiscount: 0.99\n",
      "\tdistance_to_start: 99999.0\n",
      "\tsuccessor_score: 64215.962327139685\n",
      "\tnum_ghosts_one_step_away: 40358.414634327506\n",
      "\tdistance_from_closest_ghost: 40358.414634327506\n",
      "\tis_home: 95762.5035265565\n",
      "\tdistance_to_food: 99999\n",
      "\tfood_eaten: 0.0\n",
      "\tavoided_ghost: 65157.02099210878\n",
      "\tcarrying_food: 85672.07382333162\n",
      "\tdistance_to_capsule: 99984.95699201353\n",
      "\tbias: 99999\n"
     ]
    }
   ],
   "source": [
    "import subprocess\n",
    "import time\n",
    "from IPython.display import HTML, display, clear_output\n",
    "import json\n",
    "\n",
    "with open(\"offensiveParams.json\", 'r') as file:\n",
    "    offensive_params = json.load(file)\n",
    "\n",
    "num_episodes = offensive_params[\"num_episodes\"]\n",
    "\n",
    "# Function to display captured output\n",
    "def show_output(output):\n",
    "    display(HTML(\"<pre>\" + output.decode(\"utf-8\") + \"</pre>\"))\n",
    "\n",
    "\n",
    "red = True\n",
    "# Function to run the capture.py command for a given episode\n",
    "# Function to run the capture.py command for a given episode\n",
    "def run_episode(episode):\n",
    "    global red\n",
    "    if red:\n",
    "        command = f\"python capture.py -r myteam -b baselineTeam --delay-step 0 -q\"\n",
    "    else:\n",
    "        command = f\"python capture.py -r baselineTeam -b myteam --delay-step 0 -q\"\n",
    "    result = subprocess.run(command, stdout=subprocess.PIPE, stderr=subprocess.PIPE, shell=True)\n",
    "    if result.returncode != 0:\n",
    "        error_message = result.stderr.decode(\"utf-8\")\n",
    "        print(f\"Error in episode {episode + 1}: {error_message}\")\n",
    "    return result.returncode\n",
    "\n",
    "\n",
    "\n",
    "# Run episodes\n",
    "for episode in range(num_episodes, num_episodes + 10000):\n",
    "    return_code = run_episode(episode)\n",
    "    \n",
    "    if return_code == 0:\n",
    "        offensive_params = json.load(open(\"offensiveParams.json\", 'r'))\n",
    "        defensive_params = json.load(open(\"defensiveParams.json\", 'r'))\n",
    "        clear_output()\n",
    "        if red:\n",
    "            print(f\"Playing Episode {episode + 1} as Red\\n\")\n",
    "            red = False\n",
    "        else:\n",
    "            print(f\"Playing Episode {episode + 1} as Blue\\n\")\n",
    "            red = True\n",
    "        print(f\"Episode {episode + 1} completed successfully.  Offensive Reward: {offensive_params['total_reward'][-1]}.  Defensive Reward: {defensive_params['total_reward'][-1]}.\\n\")\n",
    "        print(f\"Defensive Agent Weights:\")\n",
    "        print(f\"\\tepsilon: {defensive_params['epsilon'][-1]}\")\n",
    "        print(f\"\\talpha: {defensive_params['alpha'][-1]}\")\n",
    "        print(f\"\\tdiscount: {defensive_params['discount'][-1]}\")\n",
    "        for key, value in defensive_params['weights'].items():\n",
    "            print(f\"\\t{key}: {value}\")\n",
    "        print(f\"\\nOffensive Agent Weights:\")\n",
    "        print(f\"\\tepsilon: {offensive_params['epsilon'][-1]}\")\n",
    "        print(f\"\\talpha: {offensive_params['alpha'][-1]}\")\n",
    "        print(f\"\\tdiscount: {offensive_params['discount'][-1]}\")\n",
    "        for key, value in offensive_params['weights'].items():\n",
    "            print(f\"\\t{key}: {value}\")\n",
    "    else:\n",
    "        print(f\"Error in episode {episode + 1}. Exiting.\")\n",
    "        break\n",
    "\n",
    "print(\"All episodes completed.\")\n"
   ]
  },
  {
   "cell_type": "code",
   "execution_count": 31,
   "metadata": {},
   "outputs": [],
   "source": [
    "from update_params import update_parameters\n",
    "update_parameters(\"offensiveParams.json\")\n",
    "update_parameters(\"defensiveParams.json\")\n"
   ]
  }
 ],
 "metadata": {
  "kernelspec": {
   "display_name": ".venv",
   "language": "python",
   "name": "python3"
  },
  "language_info": {
   "codemirror_mode": {
    "name": "ipython",
    "version": 3
   },
   "file_extension": ".py",
   "mimetype": "text/x-python",
   "name": "python",
   "nbconvert_exporter": "python",
   "pygments_lexer": "ipython3",
   "version": "3.10.11"
  }
 },
 "nbformat": 4,
 "nbformat_minor": 2
}
